{
 "cells": [
  {
   "cell_type": "code",
   "execution_count": null,
   "metadata": {},
   "outputs": [],
   "source": [
    "import yfinance as yahoo \n",
    "import pandas as pd "
   ]
  },
  {
   "cell_type": "markdown",
   "metadata": {},
   "source": [
    "# **Creating the Optimal Portfolio**"
   ]
  },
  {
   "cell_type": "markdown",
   "metadata": {},
   "source": [
    "Active portfolio managers (PMs) look to deliver excess returns against some benchmark. As a part of their process, PMs will be required to make a prediction of future returns, risks, and correlation of individuals assets, either through some statistical model and/or intuition. Once the PM creates the forecast they are tasked with combining their predictions into an optimal portfolio (that maximizes long term excess growth). \n",
    "\n",
    "In this report, we will utilize the mean-variance optimization (Markowitz, 1959) to create an optimal portfolio of 100 NASDAQ stocks"
   ]
  },
  {
   "cell_type": "markdown",
   "metadata": {},
   "source": [
    "## **Research Questions**"
   ]
  },
  {
   "cell_type": "markdown",
   "metadata": {},
   "source": [
    "We will answer how to maximize a portfolio's long term compounded growth given different investable assets?"
   ]
  },
  {
   "cell_type": "markdown",
   "metadata": {},
   "source": [
    "## **Data**"
   ]
  },
  {
   "cell_type": "markdown",
   "metadata": {},
   "source": [
    "For the following nations , we downloaded the corresponding index data from 2023 from yahoo finance \n",
    "\n",
    "quantitative equity \n",
    "\n",
    "- "
   ]
  },
  {
   "cell_type": "markdown",
   "metadata": {},
   "source": [
    "First, we need to choose a metric to optimize against (a loss function). A reasonable assumption is to maximize long term wealth. Maximizing the long-term compounded annual growth rate (while avoiding ruin) will maximize wealth. \n",
    "\n",
    "The commonly accepted performance statistic is the *Sharpe Ratio.* The Sharpe Ratio, for a stream of excess returns, is the average excess return over the standard deviation of returns. Excess returns are just the returns after subtracting out the risk free return (where risk free in the minimum ROI one can receive without risk of loss - this is typically modeled by the Treasury Yield or a loan that investors give to the government and receive interest on). That is given a time series of returns, $R_A$ for asset $A$, with corresponding benchmark returns $R_f$ that we have $R_e = R_A - R_f$ and $\\sigma_e = $ standard deviation of $R_e$ then the sharpe ratio of asset $A$ is \n",
    "\n",
    "$$ S_A = \\frac {E[R_e]} {\\sigma_e}$$\n",
    "\n",
    "The sharpe ratio is commonly referenced because a higher ratio equals better risk-adjusted performance. Moreover, maximum long-term growth is achieved by finding a strategy with the maximum Sharpe ratio provided one has access to sufficiently high leverage"
   ]
  }
 ],
 "metadata": {
  "kernelspec": {
   "display_name": ".venv",
   "language": "python",
   "name": "python3"
  },
  "language_info": {
   "name": "python",
   "version": "3.12.0"
  }
 },
 "nbformat": 4,
 "nbformat_minor": 2
}
